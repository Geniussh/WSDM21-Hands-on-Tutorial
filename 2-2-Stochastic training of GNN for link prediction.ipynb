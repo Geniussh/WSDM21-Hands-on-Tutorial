{
 "cells": [
  {
   "cell_type": "code",
   "execution_count": 5,
   "id": "varied-aggregate",
   "metadata": {},
   "outputs": [
    {
     "name": "stdout",
     "output_type": "stream",
     "text": [
      "Collecting package metadata (current_repodata.json): done\n",
      "Solving environment: - \n",
      "The environment is inconsistent, please check the package plan carefully\n",
      "The following packages are causing the inconsistency:\n",
      "\n",
      "  - defaults/linux-64::pandas==1.0.1=py36h0573a6f_0\n",
      "  - defaults/linux-64::scikit-learn==0.22.1=py36hd81dba3_0\n",
      "  - defaults/linux-64::bkcharts==0.2=py36_0\n",
      "  - defaults/linux-64::pytest-arraydiff==0.3=py36h39e3cac_0\n",
      "  - defaults/linux-64::bottleneck==1.3.2=py36heb32a55_0\n",
      "  - defaults/linux-64::pywavelets==1.1.1=py36h7b6447c_0\n",
      "  - defaults/noarch::pytest-astropy==0.8.0=py_0\n",
      "  - pytorch/linux-64::pytorch==1.7.1=py3.6_cuda10.1.243_cudnn7.6.3_0\n",
      "  - defaults/linux-64::numexpr==2.7.1=py36h423224d_0\n",
      "  - defaults/linux-64::h5py==2.10.0=py36h7918eee_0\n",
      "  - defaults/linux-64::bokeh==1.4.0=py36_0\n",
      "  - defaults/linux-64::numpy-base==1.18.1=py36hde5b4d6_1\n",
      "  - conda-forge/linux-64::thinc==7.4.3=py36h8e82bdb_0\n",
      "  - pytorch/linux-64::torchvision==0.8.2=py36_cu101\n",
      "  - defaults/linux-64::astropy==4.0=py36h7b6447c_0\n",
      "  - defaults/linux-64::patsy==0.5.1=py36_0\n",
      "  - defaults/linux-64::scikit-image==0.16.2=py36h0573a6f_0\n",
      "  - defaults/linux-64::matplotlib-base==3.1.3=py36hef1b27d_0\n",
      "  - defaults/linux-64::imageio==2.6.1=py36_0\n",
      "  - defaults/linux-64::pytables==3.6.1=py36h71ec239_0\n",
      "  - defaults/linux-64::mkl_fft==1.0.15=py36ha843d7b_0\n",
      "  - defaults/linux-64::statsmodels==0.11.0=py36h7b6447c_0\n",
      "  - defaults/noarch::seaborn==0.10.0=py_0\n",
      "  - dglteam/linux-64::dgl-cuda10.1==0.6.0=py36_0\n",
      "  - defaults/linux-64::numba==0.48.0=py36h0573a6f_0\n",
      "  - defaults/linux-64::scipy==1.4.1=py36h0b6359f_0\n",
      "  - defaults/noarch::pytest-doctestplus==0.5.0=py_0\n",
      "  - defaults/linux-64::mkl_random==1.1.0=py36hd6b4f25_0\n",
      "  - conda-forge/linux-64::spacy==2.3.4=py36h8e82bdb_0\n",
      "  - fastai/noarch::fastprogress==1.0.0=pyh39e3cac_0\n",
      "  - defaults/noarch::dask==2.11.0=py_0\n",
      "  - fastai/noarch::fastai==2.2.5=py_0\n",
      "  - conda-forge/linux-64::cython-blis==0.7.3=py36ha112f06_0\n",
      "  - defaults/linux-64::matplotlib==3.1.3=py36_0\n",
      "  - defaults/linux-64::numpy==1.18.1=py36h4f9e942_0\n",
      "failed with initial frozen solve. Retrying with flexible solve.\n",
      "Collecting package metadata (repodata.json): done\n",
      "Solving environment: done\n",
      "\n",
      "\n",
      "==> WARNING: A newer version of conda exists. <==\n",
      "  current version: 4.8.4\n",
      "  latest version: 4.9.2\n",
      "\n",
      "Please update conda by running\n",
      "\n",
      "    $ conda update -n base conda\n",
      "\n",
      "\n",
      "\n",
      "## Package Plan ##\n",
      "\n",
      "  environment location: /home/ec2-user/anaconda3/envs/pytorch_latest_p36\n",
      "\n",
      "  added / updated specs:\n",
      "    - dgl-cuda10.1\n",
      "\n",
      "\n",
      "The following packages will be SUPERSEDED by a higher-priority channel:\n",
      "\n",
      "  astroid            conda-forge::astroid-2.5.1-py36h5fab9~ --> pkgs/main::astroid-2.3.3-py36_0\n",
      "  bleach             conda-forge/noarch::bleach-3.3.0-pyh4~ --> pkgs/main/linux-64::bleach-3.1.0-py36_0\n",
      "  docutils           conda-forge::docutils-0.16-py36h5fab9~ --> pkgs/main::docutils-0.16-py36_0\n",
      "  pip                conda-forge/noarch::pip-21.0.1-pyhd8e~ --> pkgs/main/linux-64::pip-20.0.2-py36_1\n",
      "  pylint             conda-forge::pylint-2.7.2-py36h5fab9b~ --> pkgs/main::pylint-2.4.4-py36_0\n",
      "  urllib3            conda-forge/noarch::urllib3-1.25.11-p~ --> pkgs/main/linux-64::urllib3-1.25.8-py36_0\n",
      "\n",
      "\n",
      "Preparing transaction: done\n",
      "Verifying transaction: done\n",
      "Executing transaction: done\n"
     ]
    }
   ],
   "source": [
    "!conda install --yes -c dglteam dgl-cuda10.1"
   ]
  },
  {
   "cell_type": "code",
   "execution_count": 7,
   "id": "bulgarian-above",
   "metadata": {},
   "outputs": [
    {
     "name": "stdout",
     "output_type": "stream",
     "text": [
      "Collecting ogb\n",
      "  Downloading ogb-1.2.6-py3-none-any.whl (58 kB)\n",
      "\u001b[K     |████████████████████████████████| 58 kB 6.7 MB/s  eta 0:00:01\n",
      "\u001b[?25hRequirement already satisfied: torch>=1.2.0 in /home/ec2-user/anaconda3/envs/pytorch_latest_p36/lib/python3.6/site-packages (from ogb) (1.7.1)\n",
      "Requirement already satisfied: pandas>=0.24.0 in /home/ec2-user/anaconda3/envs/pytorch_latest_p36/lib/python3.6/site-packages (from ogb) (1.0.1)\n",
      "Collecting outdated>=0.2.0\n",
      "  Downloading outdated-0.2.0.tar.gz (4.0 kB)\n",
      "Requirement already satisfied: scikit-learn>=0.20.0 in /home/ec2-user/anaconda3/envs/pytorch_latest_p36/lib/python3.6/site-packages (from ogb) (0.22.1)\n",
      "Requirement already satisfied: urllib3>=1.24.0 in /home/ec2-user/anaconda3/envs/pytorch_latest_p36/lib/python3.6/site-packages (from ogb) (1.26.2)\n",
      "Requirement already satisfied: tqdm>=4.29.0 in /home/ec2-user/anaconda3/envs/pytorch_latest_p36/lib/python3.6/site-packages (from ogb) (4.42.1)\n",
      "Requirement already satisfied: numpy>=1.16.0 in /home/ec2-user/anaconda3/envs/pytorch_latest_p36/lib/python3.6/site-packages (from ogb) (1.19.5)\n",
      "Requirement already satisfied: six>=1.12.0 in /home/ec2-user/anaconda3/envs/pytorch_latest_p36/lib/python3.6/site-packages (from ogb) (1.15.0)\n",
      "Requirement already satisfied: typing_extensions in /home/ec2-user/anaconda3/envs/pytorch_latest_p36/lib/python3.6/site-packages (from torch>=1.2.0->ogb) (3.7.4.3)\n",
      "Requirement already satisfied: dataclasses in /home/ec2-user/anaconda3/envs/pytorch_latest_p36/lib/python3.6/site-packages (from torch>=1.2.0->ogb) (0.7)\n",
      "Requirement already satisfied: pytz>=2017.2 in /home/ec2-user/anaconda3/envs/pytorch_latest_p36/lib/python3.6/site-packages (from pandas>=0.24.0->ogb) (2019.3)\n",
      "Requirement already satisfied: python-dateutil>=2.6.1 in /home/ec2-user/anaconda3/envs/pytorch_latest_p36/lib/python3.6/site-packages (from pandas>=0.24.0->ogb) (2.8.1)\n",
      "Collecting littleutils\n",
      "  Downloading littleutils-0.2.2.tar.gz (6.6 kB)\n",
      "Requirement already satisfied: requests in /home/ec2-user/anaconda3/envs/pytorch_latest_p36/lib/python3.6/site-packages (from outdated>=0.2.0->ogb) (2.25.1)\n",
      "Requirement already satisfied: joblib>=0.11 in /home/ec2-user/anaconda3/envs/pytorch_latest_p36/lib/python3.6/site-packages (from scikit-learn>=0.20.0->ogb) (0.14.1)\n",
      "Requirement already satisfied: scipy>=0.17.0 in /home/ec2-user/anaconda3/envs/pytorch_latest_p36/lib/python3.6/site-packages (from scikit-learn>=0.20.0->ogb) (1.4.1)\n",
      "Requirement already satisfied: idna<3,>=2.5 in /home/ec2-user/anaconda3/envs/pytorch_latest_p36/lib/python3.6/site-packages (from requests->outdated>=0.2.0->ogb) (2.10)\n",
      "Requirement already satisfied: chardet<5,>=3.0.2 in /home/ec2-user/anaconda3/envs/pytorch_latest_p36/lib/python3.6/site-packages (from requests->outdated>=0.2.0->ogb) (4.0.0)\n",
      "Requirement already satisfied: certifi>=2017.4.17 in /home/ec2-user/anaconda3/envs/pytorch_latest_p36/lib/python3.6/site-packages (from requests->outdated>=0.2.0->ogb) (2020.12.5)\n",
      "Building wheels for collected packages: outdated, littleutils\n",
      "  Building wheel for outdated (setup.py) ... \u001b[?25ldone\n",
      "\u001b[?25h  Created wheel for outdated: filename=outdated-0.2.0-py3-none-any.whl size=4960 sha256=be6837aff82ce96b10fcc4cd92579bcbedbea3ba93b4b78bc141bce22127295b\n",
      "  Stored in directory: /home/ec2-user/.cache/pip/wheels/0c/9b/ea/fb765f1c7a6bfcafcfa53aad43a060283901c383f41ba95891\n",
      "  Building wheel for littleutils (setup.py) ... \u001b[?25ldone\n",
      "\u001b[?25h  Created wheel for littleutils: filename=littleutils-0.2.2-py3-none-any.whl size=7048 sha256=c6f4952f07596d09a11b235aca593436ff50df055ace5c0ee6a6864610b46042\n",
      "  Stored in directory: /home/ec2-user/.cache/pip/wheels/ce/74/d2/8ca76b7a1356197c45a88696c5e0e94d737b9a08118854b1c0\n",
      "Successfully built outdated littleutils\n",
      "Installing collected packages: littleutils, outdated, ogb\n",
      "Successfully installed littleutils-0.2.2 ogb-1.2.6 outdated-0.2.0\n",
      "\u001b[33mWARNING: You are using pip version 20.3.3; however, version 21.0.1 is available.\n",
      "You should consider upgrading via the '/home/ec2-user/anaconda3/envs/pytorch_latest_p36/bin/python -m pip install --upgrade pip' command.\u001b[0m\n"
     ]
    }
   ],
   "source": [
    "!pip install ogb"
   ]
  },
  {
   "cell_type": "markdown",
   "id": "annual-affairs",
   "metadata": {},
   "source": [
    "# Stochastic Training of GNN for Link Prediction\n",
    "This tutorial will show how to train a multi-layer GraphSAGE for link prediction on ogbn-arxiv provided by Open Graph Benchmark (OGB). The dataset contains around 170 thousand nodes and 1 million edges.\n",
    "\n",
    "By the end of this tutorial, you will be able to:\n",
    "\n",
    "    Train a GNN model for link prediction on a single GPU with DGL’s neighbor sampling components."
   ]
  },
  {
   "cell_type": "markdown",
   "id": "earned-format",
   "metadata": {},
   "source": [
    "### Link Prediction Overview\n",
    "Link prediction requires the model to predict the probability of existence of an edge. This tutorial does so by computing a dot product between the representations of both incident nodes.\n",
    "\n",
    "\n",
    "It then minimizes the following binary cross entropy loss."
   ]
  },
  {
   "cell_type": "markdown",
   "id": "outstanding-justice",
   "metadata": {},
   "source": [
    "$\\hat{y}_{u\\sim v}=\\sigma(h_u^T h_v)$"
   ]
  },
  {
   "cell_type": "markdown",
   "id": "early-lewis",
   "metadata": {},
   "source": [
    "This is identical to the link prediction formulation in the previous tutorial on link prediction.    "
   ]
  },
  {
   "cell_type": "markdown",
   "id": "ruled-wisconsin",
   "metadata": {},
   "source": [
    "$\\mathcal{L} = -\\sum_{u\\sim v\\in \\mathcal{D}}\\left( y_{u\\sim v}\\log(\\hat{y}_{u\\sim v}) + (1-y_{u\\sim v})\\log(1-\\hat{y}_{u\\sim v})) \\right)$"
   ]
  },
  {
   "cell_type": "markdown",
   "id": "decimal-hello",
   "metadata": {},
   "source": [
    "This is identical to the link prediction formulation in the previous tutorial on link prediction."
   ]
  },
  {
   "cell_type": "markdown",
   "id": "treated-tourism",
   "metadata": {},
   "source": [
    "### Loading Dataset\n",
    "This tutorial loads the dataset from the ogb package"
   ]
  },
  {
   "cell_type": "code",
   "execution_count": 8,
   "id": "drawn-advice",
   "metadata": {},
   "outputs": [
    {
     "name": "stderr",
     "output_type": "stream",
     "text": [
      "\r",
      "  0%|          | 0/81 [00:00<?, ?it/s]"
     ]
    },
    {
     "name": "stdout",
     "output_type": "stream",
     "text": [
      "Downloading http://snap.stanford.edu/ogb/data/nodeproppred/arxiv.zip\n"
     ]
    },
    {
     "name": "stderr",
     "output_type": "stream",
     "text": [
      "Downloaded 0.08 GB: 100%|██████████| 81/81 [00:04<00:00, 19.92it/s]\n"
     ]
    },
    {
     "name": "stdout",
     "output_type": "stream",
     "text": [
      "Extracting dataset/arxiv.zip\n",
      "Loading necessary files...\n",
      "This might take a while.\n"
     ]
    },
    {
     "name": "stderr",
     "output_type": "stream",
     "text": [
      "100%|██████████| 1/1 [00:00<00:00, 6000.43it/s]\n",
      "  0%|          | 0/1 [00:00<?, ?it/s]"
     ]
    },
    {
     "name": "stdout",
     "output_type": "stream",
     "text": [
      "Processing graphs...\n",
      "Converting graphs into DGL objects...\n"
     ]
    },
    {
     "name": "stderr",
     "output_type": "stream",
     "text": [
      "100%|██████████| 1/1 [00:00<00:00,  2.62it/s]\n"
     ]
    },
    {
     "name": "stdout",
     "output_type": "stream",
     "text": [
      "Saving...\n",
      "Graph(num_nodes=169343, num_edges=2332486,\n",
      "      ndata_schemes={'year': Scheme(shape=(1,), dtype=torch.int64), 'feat': Scheme(shape=(128,), dtype=torch.float32)}\n",
      "      edata_schemes={})\n",
      "tensor([[ 4],\n",
      "        [ 5],\n",
      "        [28],\n",
      "        ...,\n",
      "        [10],\n",
      "        [ 4],\n",
      "        [ 1]])\n",
      "Number of classes: 40\n"
     ]
    }
   ],
   "source": [
    "import dgl\n",
    "import torch\n",
    "import numpy as np\n",
    "from ogb.nodeproppred import DglNodePropPredDataset\n",
    "\n",
    "dataset = DglNodePropPredDataset('ogbn-arxiv')\n",
    "device = 'cpu'      # change to 'cuda' for GPU\n",
    "\n",
    "graph, node_labels = dataset[0]\n",
    "# Add reverse edges since ogbn-arxiv is unidirectional.\n",
    "graph = dgl.add_reverse_edges(graph)\n",
    "print(graph)\n",
    "print(node_labels)\n",
    "\n",
    "node_features = graph.ndata['feat']\n",
    "node_labels = node_labels[:, 0]\n",
    "num_features = node_features.shape[1]\n",
    "num_classes = (node_labels.max() + 1).item()\n",
    "print('Number of classes:', num_classes)\n",
    "\n",
    "idx_split = dataset.get_idx_split()\n",
    "train_nids = idx_split['train']\n",
    "valid_nids = idx_split['valid']\n",
    "test_nids = idx_split['test']"
   ]
  },
  {
   "cell_type": "markdown",
   "id": "domestic-championship",
   "metadata": {},
   "source": [
    "### Defining Neighbor Sampler and Data Loader in DGL\n",
    "Different from the link prediction tutorial for full graph, a common practice to train GNN on large graphs is to iterate over the edges in minibatches, since computing the probability of all edges is usually impossible. For each minibatch of edges, you compute the output representation of their incident nodes using neighbor sampling and GNN, in a similar fashion introduced in the large-scale node classification tutorial.\n",
    "\n",
    "DGL provides ``dgl.dataloading.EdgeDataLoader`` to iterate over edges for edge classification or link prediction tasks.\n",
    "\n",
    "To perform link prediction, you need to specify a negative sampler. DGL provides builtin negative samplers such as ``dgl.dataloading.negative_sampler.Uniform``. Here this tutorial uniformly draws 5 negative examples per positive example."
   ]
  },
  {
   "cell_type": "code",
   "execution_count": 9,
   "id": "upset-engine",
   "metadata": {},
   "outputs": [],
   "source": [
    "negative_sampler = dgl.dataloading.negative_sampler.Uniform(5)"
   ]
  },
  {
   "cell_type": "markdown",
   "id": "mechanical-reducing",
   "metadata": {},
   "source": [
    "After defining the negative sampler, one can then define the edge data loader with neighbor sampling. To create an ``EdgeDataLoader`` for link prediction, provide a neighbor sampler object as well as the negative sampler object created above."
   ]
  },
  {
   "cell_type": "code",
   "execution_count": 10,
   "id": "becoming-amazon",
   "metadata": {},
   "outputs": [],
   "source": [
    "sampler = dgl.dataloading.MultiLayerNeighborSampler([4, 4])\n",
    "train_dataloader = dgl.dataloading.EdgeDataLoader(\n",
    "    # The following arguments are specific to NodeDataLoader.\n",
    "    graph,                                  # The graph\n",
    "    torch.arange(graph.number_of_edges()),  # The edges to iterate over\n",
    "    sampler,                                # The neighbor sampler\n",
    "    negative_sampler=negative_sampler,      # The negative sampler\n",
    "    device=device,                          # Put the MFGs on CPU or GPU\n",
    "    # The following arguments are inherited from PyTorch DataLoader.\n",
    "    batch_size=1024,    # Batch size\n",
    "    shuffle=True,       # Whether to shuffle the nodes for every epoch\n",
    "    drop_last=False,    # Whether to drop the last incomplete batch\n",
    "    num_workers=0       # Number of sampler processes\n",
    ")"
   ]
  },
  {
   "cell_type": "markdown",
   "id": "agricultural-porter",
   "metadata": {},
   "source": [
    "You can peek one minibatch from ``train_dataloader`` and see what it will give you."
   ]
  },
  {
   "cell_type": "code",
   "execution_count": 11,
   "id": "stuck-commission",
   "metadata": {},
   "outputs": [
    {
     "name": "stdout",
     "output_type": "stream",
     "text": [
      "Number of input nodes: 56802\n",
      "Positive graph # nodes: 6905 # edges: 1024\n",
      "Negative graph # nodes: 6905 # edges: 5120\n",
      "[Block(num_src_nodes=56802, num_dst_nodes=23829, num_edges=88768), Block(num_src_nodes=23829, num_dst_nodes=6905, num_edges=24147)]\n"
     ]
    }
   ],
   "source": [
    "input_nodes, pos_graph, neg_graph, mfgs = next(iter(train_dataloader))\n",
    "print('Number of input nodes:', len(input_nodes))\n",
    "print('Positive graph # nodes:', pos_graph.number_of_nodes(), '# edges:', pos_graph.number_of_edges())\n",
    "print('Negative graph # nodes:', neg_graph.number_of_nodes(), '# edges:', neg_graph.number_of_edges())\n",
    "print(mfgs)"
   ]
  },
  {
   "cell_type": "markdown",
   "id": "discrete-creature",
   "metadata": {},
   "source": [
    "The example minibatch consists of four elements.\n",
    "\n",
    "The first element is an ID tensor for the input nodes, i.e., nodes whose input features are needed on the first GNN layer for this minibatch.\n",
    "\n",
    "The second element is the positive graph for this minibatch\n",
    "\n",
    "The third element is the negative graph for this minibatch. In minibatch training, the positive graph and the negative graph only contain nodes necessary for computing the pair-wise scores of positive and negative examples in the current minibatch.\n",
    "\n",
    "The last element is a list of MFGs storing the computation dependencies for each GNN layer. The MFGs are used to compute the GNN outputs of the nodes involved in positive/negative graph."
   ]
  },
  {
   "cell_type": "markdown",
   "id": "instant-problem",
   "metadata": {},
   "source": [
    "### Defining Model for Node Representation\n",
    "The model is almost identical to the one in the previous node classification tutorial. The only difference is that since you are doing link prediction, the output dimension will not be the number of classes in the dataset."
   ]
  },
  {
   "cell_type": "code",
   "execution_count": 12,
   "id": "useful-playlist",
   "metadata": {},
   "outputs": [],
   "source": [
    "import torch.nn as nn\n",
    "import torch.nn.functional as F\n",
    "from dgl.nn import SAGEConv\n",
    "\n",
    "class Model(nn.Module):\n",
    "    def __init__(self, in_feats, h_feats):\n",
    "        super(Model, self).__init__()\n",
    "        self.conv1 = SAGEConv(in_feats, h_feats, aggregator_type='mean')\n",
    "        self.conv2 = SAGEConv(h_feats, h_feats, aggregator_type='mean')\n",
    "        self.h_feats = h_feats\n",
    "\n",
    "    def forward(self, mfgs, x):\n",
    "        h_dst = x[:mfgs[0].num_dst_nodes()]\n",
    "        h = self.conv1(mfgs[0], (x, h_dst))\n",
    "        h = F.relu(h)\n",
    "        h_dst = h[:mfgs[1].num_dst_nodes()]\n",
    "        h = self.conv2(mfgs[1], (h, h_dst))\n",
    "        return h\n",
    "\n",
    "model = Model(num_features, 128).to(device)"
   ]
  },
  {
   "cell_type": "markdown",
   "id": "swedish-radar",
   "metadata": {},
   "source": [
    "### Defining the Score Predictor for Edges\n",
    "After getting the node representation necessary for the minibatch, the last thing to do is to predict the score of the edges and non-existent edges in the sampled minibatch.\n",
    "\n",
    "The following score predictor is same as the one used in link prediction tutorial, takes a dot product between the incident nodes’ representations."
   ]
  },
  {
   "cell_type": "code",
   "execution_count": 13,
   "id": "chicken-organizer",
   "metadata": {},
   "outputs": [],
   "source": [
    "import dgl.function as fn\n",
    "\n",
    "class DotPredictor(nn.Module):\n",
    "    def forward(self, g, h):\n",
    "        with g.local_scope():\n",
    "            g.ndata['h'] = h\n",
    "            # Compute a new edge feature named 'score' by a dot-product between the\n",
    "            # source node feature 'h' and destination node feature 'h'.\n",
    "            g.apply_edges(fn.u_dot_v('h', 'h', 'score'))\n",
    "            # u_dot_v returns a 1-element vector for each edge so you need to squeeze it.\n",
    "            return g.edata['score'][:, 0]"
   ]
  },
  {
   "cell_type": "markdown",
   "id": "helpful-slide",
   "metadata": {},
   "source": [
    "### Evaluating Performance\n",
    "There are various ways to evaluate the performance of link prediction. This tutorial follows the practice of GraphSAGE paper, where it treats the node embeddings learned by link prediction via training and evaluating a linear classifier on top of the learned node embeddings."
   ]
  },
  {
   "cell_type": "code",
   "execution_count": 14,
   "id": "illegal-payment",
   "metadata": {},
   "outputs": [],
   "source": [
    "def inference(model, graph, node_features):\n",
    "    with torch.no_grad():\n",
    "        nodes = torch.arange(graph.number_of_nodes())\n",
    "\n",
    "        sampler = dgl.dataloading.MultiLayerNeighborSampler([4, 4])\n",
    "        train_dataloader = dgl.dataloading.NodeDataLoader(\n",
    "            graph, torch.arange(graph.number_of_nodes()), sampler,\n",
    "            batch_size=1024,\n",
    "            shuffle=False,\n",
    "            drop_last=False,\n",
    "            num_workers=4,\n",
    "            device=device)\n",
    "\n",
    "        result = []\n",
    "        for input_nodes, output_nodes, mfgs in train_dataloader:\n",
    "            # feature copy from CPU to GPU takes place here\n",
    "            inputs = mfgs[0].srcdata['feat']\n",
    "            result.append(model(mfgs, inputs))\n",
    "\n",
    "        return torch.cat(result)\n",
    "\n",
    "import sklearn.metrics\n",
    "\n",
    "def evaluate(emb, label, train_nids, valid_nids, test_nids):\n",
    "    classifier = nn.Linear(emb.shape[1], num_classes).to(device)\n",
    "    opt = torch.optim.LBFGS(classifier.parameters())\n",
    "\n",
    "    def compute_loss():\n",
    "        pred = classifier(emb[train_nids].to(device))\n",
    "        loss = F.cross_entropy(pred, label[train_nids].to(device))\n",
    "        return loss\n",
    "\n",
    "    def closure():\n",
    "        loss = compute_loss()\n",
    "        opt.zero_grad()\n",
    "        loss.backward()\n",
    "        return loss\n",
    "\n",
    "    prev_loss = float('inf')\n",
    "    for i in range(1000):\n",
    "        opt.step(closure)\n",
    "        with torch.no_grad():\n",
    "            loss = compute_loss().item()\n",
    "            if np.abs(loss - prev_loss) < 1e-4:\n",
    "                print('Converges at iteration', i)\n",
    "                break\n",
    "            else:\n",
    "                prev_loss = loss\n",
    "\n",
    "    with torch.no_grad():\n",
    "        pred = classifier(emb.to(device)).cpu()\n",
    "        label = label\n",
    "        valid_acc = sklearn.metrics.accuracy_score(label[valid_nids].numpy(), pred[valid_nids].numpy().argmax(1))\n",
    "        test_acc = sklearn.metrics.accuracy_score(label[test_nids].numpy(), pred[test_nids].numpy().argmax(1))\n",
    "    return valid_acc, test_acc"
   ]
  },
  {
   "cell_type": "markdown",
   "id": "double-administrator",
   "metadata": {},
   "source": [
    "### Defining Training Loop\n",
    "The following initializes the model and defines the optimizer."
   ]
  },
  {
   "cell_type": "code",
   "execution_count": 15,
   "id": "caroline-calibration",
   "metadata": {},
   "outputs": [],
   "source": [
    "model = Model(node_features.shape[1], 128).to(device)\n",
    "predictor = DotPredictor().to(device)\n",
    "opt = torch.optim.Adam(list(model.parameters()) + list(predictor.parameters()))"
   ]
  },
  {
   "cell_type": "markdown",
   "id": "electric-eleven",
   "metadata": {},
   "source": [
    "The following is the training loop for link prediction and evaluation, and also saves the model that performs the best on the validation set:"
   ]
  },
  {
   "cell_type": "code",
   "execution_count": 16,
   "id": "sexual-specialist",
   "metadata": {},
   "outputs": [
    {
     "name": "stderr",
     "output_type": "stream",
     "text": [
      " 22%|██▏       | 499/2278 [01:23<04:57,  5.99it/s, loss=0.653]"
     ]
    },
    {
     "name": "stdout",
     "output_type": "stream",
     "text": [
      "Converges at iteration 16\n",
      "Epoch 0 Validation Accuracy 0.6053558844256519 Test Accuracy 0.5917741703187046\n"
     ]
    },
    {
     "name": "stderr",
     "output_type": "stream",
     "text": [
      "\n"
     ]
    }
   ],
   "source": [
    "import tqdm\n",
    "import sklearn.metrics\n",
    "\n",
    "best_accuracy = 0\n",
    "best_model_path = 'model.pt'\n",
    "for epoch in range(1):\n",
    "    with tqdm.tqdm(train_dataloader) as tq:\n",
    "        for step, (input_nodes, pos_graph, neg_graph, mfgs) in enumerate(tq):\n",
    "            # feature copy from CPU to GPU takes place here\n",
    "            inputs = mfgs[0].srcdata['feat']\n",
    "\n",
    "            outputs = model(mfgs, inputs)\n",
    "            pos_score = predictor(pos_graph, outputs)\n",
    "            neg_score = predictor(neg_graph, outputs)\n",
    "\n",
    "            score = torch.cat([pos_score, neg_score])\n",
    "            label = torch.cat([torch.ones_like(pos_score), torch.zeros_like(neg_score)])\n",
    "            loss = F.binary_cross_entropy_with_logits(score, label)\n",
    "\n",
    "            opt.zero_grad()\n",
    "            loss.backward()\n",
    "            opt.step()\n",
    "\n",
    "            tq.set_postfix({'loss': '%.03f' % loss.item()}, refresh=False)\n",
    "\n",
    "            if (step + 1) % 500 == 0:\n",
    "                model.eval()\n",
    "                emb = inference(model, graph, node_features)\n",
    "                valid_acc, test_acc = evaluate(emb, node_labels, train_nids, valid_nids, test_nids)\n",
    "                print('Epoch {} Validation Accuracy {} Test Accuracy {}'.format(epoch, valid_acc, test_acc))\n",
    "                if best_accuracy < valid_acc:\n",
    "                    best_accuracy = valid_acc\n",
    "                    torch.save(model.state_dict(), best_model_path)\n",
    "                model.train()\n",
    "\n",
    "                # Note that this tutorial do not train the whole model to the end.\n",
    "                break"
   ]
  },
  {
   "cell_type": "code",
   "execution_count": null,
   "id": "protective-collection",
   "metadata": {},
   "outputs": [],
   "source": []
  }
 ],
 "metadata": {
  "kernelspec": {
   "display_name": "conda_pytorch_latest_p36",
   "language": "python",
   "name": "conda_pytorch_latest_p36"
  },
  "language_info": {
   "codemirror_mode": {
    "name": "ipython",
    "version": 3
   },
   "file_extension": ".py",
   "mimetype": "text/x-python",
   "name": "python",
   "nbconvert_exporter": "python",
   "pygments_lexer": "ipython3",
   "version": "3.6.10"
  }
 },
 "nbformat": 4,
 "nbformat_minor": 5
}
